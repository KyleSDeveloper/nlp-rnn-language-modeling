{
 "cells": [
  {
   "cell_type": "markdown",
   "id": "4d888ab3",
   "metadata": {},
   "source": [
    "## Code Setup"
   ]
  },
  {
   "cell_type": "code",
   "execution_count": 1,
   "id": "86ce6d12",
   "metadata": {},
   "outputs": [],
   "source": [
    "from fastai import *\n",
    "from fastai.text.all import *\n",
    "import pandas as pd\n",
    "import numpy as np\n",
    "import matplotlib.pyplot as plt\n",
    "from IPython.display import display, Markdown\n"
   ]
  },
  {
   "cell_type": "code",
   "execution_count": 2,
   "id": "953488c0",
   "metadata": {},
   "outputs": [
    {
     "data": {
      "text/html": [
       "\n",
       "<style>\n",
       "    /* Turns off some styling */\n",
       "    progress {\n",
       "        /* gets rid of default border in Firefox and Opera. */\n",
       "        border: none;\n",
       "        /* Needs to be in here for Safari polyfill so background images work as expected. */\n",
       "        background-size: auto;\n",
       "    }\n",
       "    progress:not([value]), progress:not([value])::-webkit-progress-bar {\n",
       "        background: repeating-linear-gradient(45deg, #7e7e7e, #7e7e7e 10px, #5c5c5c 10px, #5c5c5c 20px);\n",
       "    }\n",
       "    .progress-bar-interrupted, .progress-bar-interrupted::-webkit-progress-bar {\n",
       "        background: #F44336;\n",
       "    }\n",
       "</style>\n"
      ],
      "text/plain": [
       "<IPython.core.display.HTML object>"
      ]
     },
     "metadata": {},
     "output_type": "display_data"
    },
    {
     "data": {
      "text/html": [
       "\n",
       "    <div>\n",
       "      <progress value='144441344' class='' max='144440600' style='width:300px; height:20px; vertical-align: middle;'></progress>\n",
       "      100.00% [144441344/144440600 00:15&lt;00:00]\n",
       "    </div>\n",
       "    "
      ],
      "text/plain": [
       "<IPython.core.display.HTML object>"
      ]
     },
     "metadata": {},
     "output_type": "display_data"
    },
    {
     "data": {
      "text/plain": [
       "[Path('/home/ylek/.fastai/data/imdb/train'),\n",
       " Path('/home/ylek/.fastai/data/imdb/imdb.vocab'),\n",
       " Path('/home/ylek/.fastai/data/imdb/tmp_lm'),\n",
       " Path('/home/ylek/.fastai/data/imdb/README'),\n",
       " Path('/home/ylek/.fastai/data/imdb/test'),\n",
       " Path('/home/ylek/.fastai/data/imdb/tmp_clas'),\n",
       " Path('/home/ylek/.fastai/data/imdb/unsup')]"
      ]
     },
     "execution_count": 2,
     "metadata": {},
     "output_type": "execute_result"
    }
   ],
   "source": [
    "# Download the data\n",
    "path = untar_data(URLs.IMDB)\n",
    "list(path.ls())\n"
   ]
  },
  {
   "cell_type": "markdown",
   "id": "ba7d1d26",
   "metadata": {},
   "source": [
    "## Create DataLoaders\n",
    "\n",
    "Create your dataloaders object and take a look at a batch. It has two columns - the column on the left is some text from movie reviews, and the right column is that same text, just shifted by one word. Later on, using RNNs, you will attempt to generate the sequence on the right using the sequence on the left."
   ]
  },
  {
   "cell_type": "code",
   "execution_count": 3,
   "id": "9fa98f86",
   "metadata": {},
   "outputs": [
    {
     "data": {
      "text/html": [
       "\n",
       "<style>\n",
       "    /* Turns off some styling */\n",
       "    progress {\n",
       "        /* gets rid of default border in Firefox and Opera. */\n",
       "        border: none;\n",
       "        /* Needs to be in here for Safari polyfill so background images work as expected. */\n",
       "        background-size: auto;\n",
       "    }\n",
       "    progress:not([value]), progress:not([value])::-webkit-progress-bar {\n",
       "        background: repeating-linear-gradient(45deg, #7e7e7e, #7e7e7e 10px, #5c5c5c 10px, #5c5c5c 20px);\n",
       "    }\n",
       "    .progress-bar-interrupted, .progress-bar-interrupted::-webkit-progress-bar {\n",
       "        background: #F44336;\n",
       "    }\n",
       "</style>\n"
      ],
      "text/plain": [
       "<IPython.core.display.HTML object>"
      ]
     },
     "metadata": {},
     "output_type": "display_data"
    },
    {
     "data": {
      "text/html": [],
      "text/plain": [
       "<IPython.core.display.HTML object>"
      ]
     },
     "metadata": {},
     "output_type": "display_data"
    }
   ],
   "source": [
    "get_imdb = partial(get_text_files, folders=['train', 'unsup'])\n",
    "\n",
    "lm_dls = DataBlock(\n",
    "    blocks=TextBlock.from_folder(path, is_lm=True),\n",
    "    get_items=get_imdb, splitter=RandomSplitter(0.1)\n",
    ").dataloaders(path, path=path)\n"
   ]
  },
  {
   "cell_type": "code",
   "execution_count": 4,
   "id": "f393bcc1",
   "metadata": {},
   "outputs": [
    {
     "data": {
      "text/html": [
       "<table border=\"1\" class=\"dataframe\">\n",
       "  <thead>\n",
       "    <tr style=\"text-align: right;\">\n",
       "      <th></th>\n",
       "      <th>text</th>\n",
       "      <th>text_</th>\n",
       "    </tr>\n",
       "  </thead>\n",
       "  <tbody>\n",
       "    <tr>\n",
       "      <th>0</th>\n",
       "      <td>xxbos a triumph of xxmaj japanese filmography . xxmaj stand aside xxmaj kurosawa you have been bettered . xxmaj fantastic script and plot - a real family must see . i thought the complete ' xxunk ' was particularly superb . i must comment on the outstanding acting which although must have been done under lots of distractions never wavered and continued to excel throughout . xxmaj the story and script was</td>\n",
       "      <td>a triumph of xxmaj japanese filmography . xxmaj stand aside xxmaj kurosawa you have been bettered . xxmaj fantastic script and plot - a real family must see . i thought the complete ' xxunk ' was particularly superb . i must comment on the outstanding acting which although must have been done under lots of distractions never wavered and continued to excel throughout . xxmaj the story and script was written</td>\n",
       "    </tr>\n",
       "    <tr>\n",
       "      <th>1</th>\n",
       "      <td>nene and he shoots some policemen . xxmaj they make their escape , and xxmaj nene is doing all he can for xxmaj angel . \\n\\n xxmaj nene has to get the bullet out of xxmaj angle and there is a scene of him digging for the bullet and xxmaj angel screaming in agony , really a great scene and you will think it will never end . xxmaj nene kisses xxmaj</td>\n",
       "      <td>and he shoots some policemen . xxmaj they make their escape , and xxmaj nene is doing all he can for xxmaj angel . \\n\\n xxmaj nene has to get the bullet out of xxmaj angle and there is a scene of him digging for the bullet and xxmaj angel screaming in agony , really a great scene and you will think it will never end . xxmaj nene kisses xxmaj angle</td>\n",
       "    </tr>\n",
       "  </tbody>\n",
       "</table>"
      ],
      "text/plain": [
       "<IPython.core.display.HTML object>"
      ]
     },
     "metadata": {},
     "output_type": "display_data"
    }
   ],
   "source": [
    "lm_dls.show_batch(max_n=2)"
   ]
  },
  {
   "cell_type": "markdown",
   "id": "78ab93dd",
   "metadata": {},
   "source": [
    "## Inputs and Outputs\n",
    "\n",
    "As you can see in the block below, the inputs are a block of text, and the outputs you're trying to predict is that text shifted by one token. This is similar to the setup in the previous module, where you built RNNs from scratch to predict time series data. The benefit of this setup is that the model can learn about the data in the absence of labels.\n",
    "\n",
    "Now, look at a single batch of numericalized data. You should make sure that y is x shifted by 1."
   ]
  },
  {
   "cell_type": "code",
   "execution_count": 5,
   "id": "90118bd3",
   "metadata": {},
   "outputs": [],
   "source": [
    "x, y = lm_dls.one_batch()"
   ]
  },
  {
   "cell_type": "code",
   "execution_count": 6,
   "id": "cc8df838",
   "metadata": {},
   "outputs": [
    {
     "data": {
      "text/plain": [
       "LMTensorText([    2,    19,   894,    15,   127,    20,  1514,   120,   339,\n",
       "                  9,  2228, 20941,    29,    17,    35,     9,     7,  2828,\n",
       "                 18,     9,  2220,  2687,    15,    17,  1880,    10,    19,\n",
       "                324,    17,   486,     9,   213,    21,    19,    59,    36,\n",
       "                 53,     9,  2160,   266,    14,   538,    21,     8,  1859,\n",
       "                  8,     0,  4534,    37,   777,    15,    41,   468,    31,\n",
       "                 19,   123,    92,    42,    13,   438,    14,     9,  4442,\n",
       "                 23,   186,  1742,    28,    20,  2098,    23,   180,    34],\n",
       "             device='cuda:0')"
      ]
     },
     "execution_count": 6,
     "metadata": {},
     "output_type": "execute_result"
    }
   ],
   "source": [
    "x[0]"
   ]
  },
  {
   "cell_type": "code",
   "execution_count": 7,
   "id": "24ef801b",
   "metadata": {},
   "outputs": [
    {
     "data": {
      "text/plain": [
       "TensorText([   19,   894,    15,   127,    20,  1514,   120,   339,     9,\n",
       "             2228, 20941,    29,    17,    35,     9,     7,  2828,    18,\n",
       "                9,  2220,  2687,    15,    17,  1880,    10,    19,   324,\n",
       "               17,   486,     9,   213,    21,    19,    59,    36,    53,\n",
       "                9,  2160,   266,    14,   538,    21,     8,  1859,     8,\n",
       "                0,  4534,    37,   777,    15,    41,   468,    31,    19,\n",
       "              123,    92,    42,    13,   438,    14,     9,  4442,    23,\n",
       "              186,  1742,    28,    20,  2098,    23,   180,    34,    10],\n",
       "           device='cuda:0')"
      ]
     },
     "execution_count": 7,
     "metadata": {},
     "output_type": "execute_result"
    }
   ],
   "source": [
    "y[0]"
   ]
  },
  {
   "cell_type": "code",
   "execution_count": 8,
   "id": "8a085880",
   "metadata": {},
   "outputs": [],
   "source": [
    "# Check that the same shift occurs for the entire batch\n",
    "assert (x[:, 1:] == y[:, :-1]).all()"
   ]
  },
  {
   "cell_type": "markdown",
   "id": "cc568f55",
   "metadata": {},
   "source": [
    "It looks like all your assumptions are true!"
   ]
  },
  {
   "cell_type": "markdown",
   "id": "82b9660c",
   "metadata": {},
   "source": [
    "## Create the Model\n",
    "\n",
    "When passing pretrained=True to language_model_learner, you load weights for a language model that was trained on the wikitext103 dataset. Then, like the ULMFiT paper, you will fine-tune this language model on the IMDB dataset."
   ]
  },
  {
   "cell_type": "code",
   "execution_count": 9,
   "id": "81293234",
   "metadata": {},
   "outputs": [
    {
     "data": {
      "text/html": [
       "\n",
       "<style>\n",
       "    /* Turns off some styling */\n",
       "    progress {\n",
       "        /* gets rid of default border in Firefox and Opera. */\n",
       "        border: none;\n",
       "        /* Needs to be in here for Safari polyfill so background images work as expected. */\n",
       "        background-size: auto;\n",
       "    }\n",
       "    progress:not([value]), progress:not([value])::-webkit-progress-bar {\n",
       "        background: repeating-linear-gradient(45deg, #7e7e7e, #7e7e7e 10px, #5c5c5c 10px, #5c5c5c 20px);\n",
       "    }\n",
       "    .progress-bar-interrupted, .progress-bar-interrupted::-webkit-progress-bar {\n",
       "        background: #F44336;\n",
       "    }\n",
       "</style>\n"
      ],
      "text/plain": [
       "<IPython.core.display.HTML object>"
      ]
     },
     "metadata": {},
     "output_type": "display_data"
    },
    {
     "data": {
      "text/html": [
       "\n",
       "    <div>\n",
       "      <progress value='105070592' class='' max='105067061' style='width:300px; height:20px; vertical-align: middle;'></progress>\n",
       "      100.00% [105070592/105067061 00:11&lt;00:00]\n",
       "    </div>\n",
       "    "
      ],
      "text/plain": [
       "<IPython.core.display.HTML object>"
      ]
     },
     "metadata": {},
     "output_type": "display_data"
    },
    {
     "name": "stderr",
     "output_type": "stream",
     "text": [
      "/home/ylek/miniconda3/envs/fastai/lib/python3.12/site-packages/fastai/text/learner.py:149: FutureWarning: You are using `torch.load` with `weights_only=False` (the current default value), which uses the default pickle module implicitly. It is possible to construct malicious pickle data which will execute arbitrary code during unpickling (See https://github.com/pytorch/pytorch/blob/main/SECURITY.md#untrusted-models for more details). In a future release, the default value for `weights_only` will be flipped to `True`. This limits the functions that could be executed during unpickling. Arbitrary objects will no longer be allowed to be loaded via this mode unless they are explicitly allowlisted by the user via `torch.serialization.add_safe_globals`. We recommend you start setting `weights_only=True` for any use case where you don't have full control of the loaded file. Please open an issue on GitHub for any issues related to this experimental feature.\n",
      "  wgts = torch.load(wgts_fname, map_location = lambda storage,loc: storage)\n"
     ]
    }
   ],
   "source": [
    "# Create the model\n",
    "lm_learn = language_model_learner(lm_dls, AWD_LSTM, pretrained=True)"
   ]
  },
  {
   "cell_type": "code",
   "execution_count": 10,
   "id": "78abb552",
   "metadata": {},
   "outputs": [
    {
     "data": {
      "text/plain": [
       "SequentialRNN(\n",
       "  (0): AWD_LSTM(\n",
       "    (encoder): Embedding(60008, 400, padding_idx=1)\n",
       "    (encoder_dp): EmbeddingDropout(\n",
       "      (emb): Embedding(60008, 400, padding_idx=1)\n",
       "    )\n",
       "    (rnns): ModuleList(\n",
       "      (0): WeightDropout(\n",
       "        (module): LSTM(400, 1152, batch_first=True)\n",
       "      )\n",
       "      (1): WeightDropout(\n",
       "        (module): LSTM(1152, 1152, batch_first=True)\n",
       "      )\n",
       "      (2): WeightDropout(\n",
       "        (module): LSTM(1152, 400, batch_first=True)\n",
       "      )\n",
       "    )\n",
       "    (input_dp): RNNDropout()\n",
       "    (hidden_dps): ModuleList(\n",
       "      (0-2): 3 x RNNDropout()\n",
       "    )\n",
       "  )\n",
       "  (1): LinearDecoder(\n",
       "    (decoder): Linear(in_features=400, out_features=60008, bias=True)\n",
       "    (output_dp): RNNDropout()\n",
       "  )\n",
       ")"
      ]
     },
     "execution_count": 10,
     "metadata": {},
     "output_type": "execute_result"
    }
   ],
   "source": [
    "lm_learn.model\n"
   ]
  },
  {
   "cell_type": "code",
   "execution_count": 11,
   "id": "d07896c9",
   "metadata": {},
   "outputs": [
    {
     "data": {
      "text/html": [
       "\n",
       "<style>\n",
       "    /* Turns off some styling */\n",
       "    progress {\n",
       "        /* gets rid of default border in Firefox and Opera. */\n",
       "        border: none;\n",
       "        /* Needs to be in here for Safari polyfill so background images work as expected. */\n",
       "        background-size: auto;\n",
       "    }\n",
       "    progress:not([value]), progress:not([value])::-webkit-progress-bar {\n",
       "        background: repeating-linear-gradient(45deg, #7e7e7e, #7e7e7e 10px, #5c5c5c 10px, #5c5c5c 20px);\n",
       "    }\n",
       "    .progress-bar-interrupted, .progress-bar-interrupted::-webkit-progress-bar {\n",
       "        background: #F44336;\n",
       "    }\n",
       "</style>\n"
      ],
      "text/plain": [
       "<IPython.core.display.HTML object>"
      ]
     },
     "metadata": {},
     "output_type": "display_data"
    },
    {
     "data": {
      "text/html": [],
      "text/plain": [
       "<IPython.core.display.HTML object>"
      ]
     },
     "metadata": {},
     "output_type": "display_data"
    },
    {
     "data": {
      "text/plain": [
       "'This movie was terrible , as many enchantress reports fixed these movies in its predictions'"
      ]
     },
     "execution_count": 11,
     "metadata": {},
     "output_type": "execute_result"
    }
   ],
   "source": [
    "# The model is trained on wikitext, so it will be able to\n",
    "# generate semi-sensible sentences, but they will likely\n",
    "# have nothing to do with movies.\n",
    "lm_learn.predict('This movie was terrible, ', n_words=10)"
   ]
  },
  {
   "cell_type": "code",
   "execution_count": 12,
   "id": "a53586f8",
   "metadata": {},
   "outputs": [],
   "source": [
    "LR = 1e-3"
   ]
  },
  {
   "cell_type": "code",
   "execution_count": 13,
   "id": "bfd781ae",
   "metadata": {},
   "outputs": [
    {
     "data": {
      "text/html": [
       "\n",
       "<style>\n",
       "    /* Turns off some styling */\n",
       "    progress {\n",
       "        /* gets rid of default border in Firefox and Opera. */\n",
       "        border: none;\n",
       "        /* Needs to be in here for Safari polyfill so background images work as expected. */\n",
       "        background-size: auto;\n",
       "    }\n",
       "    progress:not([value]), progress:not([value])::-webkit-progress-bar {\n",
       "        background: repeating-linear-gradient(45deg, #7e7e7e, #7e7e7e 10px, #5c5c5c 10px, #5c5c5c 20px);\n",
       "    }\n",
       "    .progress-bar-interrupted, .progress-bar-interrupted::-webkit-progress-bar {\n",
       "        background: #F44336;\n",
       "    }\n",
       "</style>\n"
      ],
      "text/plain": [
       "<IPython.core.display.HTML object>"
      ]
     },
     "metadata": {},
     "output_type": "display_data"
    },
    {
     "data": {
      "text/html": [
       "<table border=\"1\" class=\"dataframe\">\n",
       "  <thead>\n",
       "    <tr style=\"text-align: left;\">\n",
       "      <th>epoch</th>\n",
       "      <th>train_loss</th>\n",
       "      <th>valid_loss</th>\n",
       "      <th>time</th>\n",
       "    </tr>\n",
       "  </thead>\n",
       "  <tbody>\n",
       "    <tr>\n",
       "      <td>0</td>\n",
       "      <td>4.419459</td>\n",
       "      <td>4.093943</td>\n",
       "      <td>07:46</td>\n",
       "    </tr>\n",
       "  </tbody>\n",
       "</table>"
      ],
      "text/plain": [
       "<IPython.core.display.HTML object>"
      ]
     },
     "metadata": {},
     "output_type": "display_data"
    }
   ],
   "source": [
    "lm_learn.fit_one_cycle(1, LR)"
   ]
  },
  {
   "cell_type": "code",
   "execution_count": 14,
   "id": "7599c184",
   "metadata": {},
   "outputs": [
    {
     "data": {
      "text/html": [
       "\n",
       "<style>\n",
       "    /* Turns off some styling */\n",
       "    progress {\n",
       "        /* gets rid of default border in Firefox and Opera. */\n",
       "        border: none;\n",
       "        /* Needs to be in here for Safari polyfill so background images work as expected. */\n",
       "        background-size: auto;\n",
       "    }\n",
       "    progress:not([value]), progress:not([value])::-webkit-progress-bar {\n",
       "        background: repeating-linear-gradient(45deg, #7e7e7e, #7e7e7e 10px, #5c5c5c 10px, #5c5c5c 20px);\n",
       "    }\n",
       "    .progress-bar-interrupted, .progress-bar-interrupted::-webkit-progress-bar {\n",
       "        background: #F44336;\n",
       "    }\n",
       "</style>\n"
      ],
      "text/plain": [
       "<IPython.core.display.HTML object>"
      ]
     },
     "metadata": {},
     "output_type": "display_data"
    },
    {
     "data": {
      "text/html": [],
      "text/plain": [
       "<IPython.core.display.HTML object>"
      ]
     },
     "metadata": {},
     "output_type": "display_data"
    },
    {
     "data": {
      "text/plain": [
       "'This movie was terrible , but past the times it had a likely illuminating effect'"
      ]
     },
     "execution_count": 14,
     "metadata": {},
     "output_type": "execute_result"
    }
   ],
   "source": [
    "lm_learn.predict('This movie was terrible, ', n_words=10)"
   ]
  },
  {
   "cell_type": "code",
   "execution_count": 15,
   "id": "221c06f2",
   "metadata": {},
   "outputs": [],
   "source": [
    "# Save the model\n",
    "lm_learn.save_encoder('lm_encoder')"
   ]
  },
  {
   "cell_type": "code",
   "execution_count": 16,
   "id": "017dfc53",
   "metadata": {},
   "outputs": [],
   "source": [
    "# Create dataloaders for text classification.\n",
    "# Let's make sure to pass your vocab from your pre-training\n",
    "# so the word indices are the same.\n",
    "dls = TextDataLoaders.from_folder(path, train='train', valid='test', text_vocab=lm_dls.vocab)"
   ]
  },
  {
   "cell_type": "code",
   "execution_count": 17,
   "id": "8514b58c",
   "metadata": {},
   "outputs": [
    {
     "data": {
      "text/html": [
       "<table border=\"1\" class=\"dataframe\">\n",
       "  <thead>\n",
       "    <tr style=\"text-align: right;\">\n",
       "      <th></th>\n",
       "      <th>text</th>\n",
       "      <th>category</th>\n",
       "    </tr>\n",
       "  </thead>\n",
       "  <tbody>\n",
       "    <tr>\n",
       "      <th>0</th>\n",
       "      <td>xxbos xxmaj match 1 : xxmaj tag xxmaj team xxmaj table xxmaj match xxmaj bubba xxmaj ray and xxmaj spike xxmaj dudley vs xxmaj eddie xxmaj guerrero and xxmaj chris xxmaj benoit xxmaj bubba xxmaj ray and xxmaj spike xxmaj dudley started things off with a xxmaj tag xxmaj team xxmaj table xxmaj match against xxmaj eddie xxmaj guerrero and xxmaj chris xxmaj benoit . xxmaj according to the rules of the match , both opponents have to go through tables in order to get the win . xxmaj benoit and xxmaj guerrero heated up early on by taking turns hammering first xxmaj spike and then xxmaj bubba xxmaj ray . a xxmaj german xxunk by xxmaj benoit to xxmaj bubba took the wind out of the xxmaj dudley brother . xxmaj spike tried to help his brother , but the referee restrained him while xxmaj benoit and xxmaj guerrero</td>\n",
       "      <td>pos</td>\n",
       "    </tr>\n",
       "    <tr>\n",
       "      <th>1</th>\n",
       "      <td>xxbos xxrep 3 * xxmaj warning - this review contains \" plot spoilers , \" though nothing could \" spoil \" this movie any more than it already is . xxmaj it really xxup is that bad . xxrep 3 * \\n\\n xxmaj before i begin , xxmaj i 'd like to let everyone know that this definitely is one of those so - incredibly - bad - that - you - fall - over - laughing movies . xxmaj if you 're in a lighthearted mood and need a very hearty laugh , this is the movie for you . xxmaj now without further ado , my review : \\n\\n xxmaj this movie was found in a bargain bin at wal - mart . xxmaj that should be the first clue as to how good of a movie it is . xxmaj secondly , it stars the lame action</td>\n",
       "      <td>neg</td>\n",
       "    </tr>\n",
       "    <tr>\n",
       "      <th>2</th>\n",
       "      <td>xxbos xxmaj polish film maker xxmaj walerian xxmaj borowczyk 's xxmaj la xxmaj bête ( french , 1975 , aka xxmaj the xxmaj beast ) is among the most controversial and brave films ever made and a very excellent one too . xxmaj this film tells everything that 's generally been hidden and denied about our nature and our sexual nature in particular with the symbolism and silence of its images . xxmaj the images may look wild , perverse , \" sick \" or exciting , but they are all in relation with the lastly mentioned . xxmaj sex , desire and death are very strong and primary things and dominate all the flesh that has a human soul inside it . xxmaj they interest and xxunk us so powerfully ( and by our nature ) that they are considered scary , unacceptable and something too wild to be</td>\n",
       "      <td>pos</td>\n",
       "    </tr>\n",
       "  </tbody>\n",
       "</table>"
      ],
      "text/plain": [
       "<IPython.core.display.HTML object>"
      ]
     },
     "metadata": {},
     "output_type": "display_data"
    }
   ],
   "source": [
    "dls.show_batch(max_n=3)"
   ]
  },
  {
   "cell_type": "markdown",
   "id": "a6e73620",
   "metadata": {},
   "source": [
    "# Add Callbacks\n",
    "\n",
    "Set up your model for training. First, you add a few callbacks to save the model and stop it if the validation loss plateaus."
   ]
  },
  {
   "cell_type": "code",
   "execution_count": 18,
   "id": "b65c8903",
   "metadata": {},
   "outputs": [],
   "source": [
    "cbs = [\n",
    "    EarlyStoppingCallback(),\n",
    "    SaveModelCallback()\n",
    "]"
   ]
  },
  {
   "cell_type": "markdown",
   "id": "40d73973",
   "metadata": {},
   "source": [
    "# Create the Leaner\n",
    "\n",
    "In the cell below, you create your learner object using your dataloaders for the text classification task and the AWD_LSTM architecture."
   ]
  },
  {
   "cell_type": "code",
   "execution_count": 19,
   "id": "e8b55cbf",
   "metadata": {},
   "outputs": [
    {
     "name": "stderr",
     "output_type": "stream",
     "text": [
      "/home/ylek/miniconda3/envs/fastai/lib/python3.12/site-packages/fastai/text/learner.py:149: FutureWarning: You are using `torch.load` with `weights_only=False` (the current default value), which uses the default pickle module implicitly. It is possible to construct malicious pickle data which will execute arbitrary code during unpickling (See https://github.com/pytorch/pytorch/blob/main/SECURITY.md#untrusted-models for more details). In a future release, the default value for `weights_only` will be flipped to `True`. This limits the functions that could be executed during unpickling. Arbitrary objects will no longer be allowed to be loaded via this mode unless they are explicitly allowlisted by the user via `torch.serialization.add_safe_globals`. We recommend you start setting `weights_only=True` for any use case where you don't have full control of the loaded file. Please open an issue on GitHub for any issues related to this experimental feature.\n",
      "  wgts = torch.load(wgts_fname, map_location = lambda storage,loc: storage)\n"
     ]
    }
   ],
   "source": [
    "# Create a learner for text classification.\n",
    "learn = text_classifier_learner(dls, AWD_LSTM, metrics=[accuracy, error_rate], cbs=cbs)"
   ]
  },
  {
   "cell_type": "markdown",
   "id": "d86bb616",
   "metadata": {},
   "source": [
    "# Load Encoder\n",
    "\n",
    "At this point, your model is the same model that's been pre-trained on wikitext-103, but you want to use the model you fine-tuned on IMDB. You can use the load_encoder method to load the weights you saved. After running this cell, you have an encoder that has been fine-tuned on movie reviews and an untrained classification head."
   ]
  },
  {
   "cell_type": "code",
   "execution_count": 20,
   "id": "bdc7aa1c",
   "metadata": {},
   "outputs": [
    {
     "name": "stderr",
     "output_type": "stream",
     "text": [
      "/home/ylek/miniconda3/envs/fastai/lib/python3.12/site-packages/fastai/text/learner.py:135: FutureWarning: You are using `torch.load` with `weights_only=False` (the current default value), which uses the default pickle module implicitly. It is possible to construct malicious pickle data which will execute arbitrary code during unpickling (See https://github.com/pytorch/pytorch/blob/main/SECURITY.md#untrusted-models for more details). In a future release, the default value for `weights_only` will be flipped to `True`. This limits the functions that could be executed during unpickling. Arbitrary objects will no longer be allowed to be loaded via this mode unless they are explicitly allowlisted by the user via `torch.serialization.add_safe_globals`. We recommend you start setting `weights_only=True` for any use case where you don't have full control of the loaded file. Please open an issue on GitHub for any issues related to this experimental feature.\n",
      "  wgts = torch.load(join_path_file(file,self.path/self.model_dir, ext='.pth'), map_location=device)\n"
     ]
    }
   ],
   "source": [
    "# Load your weights from fine-tuning on full IMDB\n",
    "learn = learn.load_encoder('lm_encoder')"
   ]
  },
  {
   "cell_type": "markdown",
   "id": "356e4274",
   "metadata": {},
   "source": [
    "# Fine Tune the Model\n",
    "\n",
    "It's time to fine-tune your model for 10 epochs. This means that you will train the classifier only for 1 epoch, then unfreeze the entire model and train for 10 epochs (unless you meet your early stopping criteria)."
   ]
  },
  {
   "cell_type": "code",
   "execution_count": 21,
   "id": "a24d746c",
   "metadata": {},
   "outputs": [
    {
     "data": {
      "text/html": [
       "\n",
       "<style>\n",
       "    /* Turns off some styling */\n",
       "    progress {\n",
       "        /* gets rid of default border in Firefox and Opera. */\n",
       "        border: none;\n",
       "        /* Needs to be in here for Safari polyfill so background images work as expected. */\n",
       "        background-size: auto;\n",
       "    }\n",
       "    progress:not([value]), progress:not([value])::-webkit-progress-bar {\n",
       "        background: repeating-linear-gradient(45deg, #7e7e7e, #7e7e7e 10px, #5c5c5c 10px, #5c5c5c 20px);\n",
       "    }\n",
       "    .progress-bar-interrupted, .progress-bar-interrupted::-webkit-progress-bar {\n",
       "        background: #F44336;\n",
       "    }\n",
       "</style>\n"
      ],
      "text/plain": [
       "<IPython.core.display.HTML object>"
      ]
     },
     "metadata": {},
     "output_type": "display_data"
    },
    {
     "data": {
      "text/html": [
       "<table border=\"1\" class=\"dataframe\">\n",
       "  <thead>\n",
       "    <tr style=\"text-align: left;\">\n",
       "      <th>epoch</th>\n",
       "      <th>train_loss</th>\n",
       "      <th>valid_loss</th>\n",
       "      <th>accuracy</th>\n",
       "      <th>error_rate</th>\n",
       "      <th>time</th>\n",
       "    </tr>\n",
       "  </thead>\n",
       "  <tbody>\n",
       "    <tr>\n",
       "      <td>0</td>\n",
       "      <td>0.428424</td>\n",
       "      <td>0.345843</td>\n",
       "      <td>0.851480</td>\n",
       "      <td>0.148520</td>\n",
       "      <td>00:35</td>\n",
       "    </tr>\n",
       "  </tbody>\n",
       "</table>"
      ],
      "text/plain": [
       "<IPython.core.display.HTML object>"
      ]
     },
     "metadata": {},
     "output_type": "display_data"
    },
    {
     "name": "stdout",
     "output_type": "stream",
     "text": [
      "Better model found at epoch 0 with valid_loss value: 0.34584251046180725.\n"
     ]
    },
    {
     "name": "stderr",
     "output_type": "stream",
     "text": [
      "/home/ylek/miniconda3/envs/fastai/lib/python3.12/site-packages/fastai/text/learner.py:92: FutureWarning: You are using `torch.load` with `weights_only=False` (the current default value), which uses the default pickle module implicitly. It is possible to construct malicious pickle data which will execute arbitrary code during unpickling (See https://github.com/pytorch/pytorch/blob/main/SECURITY.md#untrusted-models for more details). In a future release, the default value for `weights_only` will be flipped to `True`. This limits the functions that could be executed during unpickling. Arbitrary objects will no longer be allowed to be loaded via this mode unless they are explicitly allowlisted by the user via `torch.serialization.add_safe_globals`. We recommend you start setting `weights_only=True` for any use case where you don't have full control of the loaded file. Please open an issue on GitHub for any issues related to this experimental feature.\n",
      "  state = torch.load(file, map_location=device)\n"
     ]
    },
    {
     "data": {
      "text/html": [
       "\n",
       "<style>\n",
       "    /* Turns off some styling */\n",
       "    progress {\n",
       "        /* gets rid of default border in Firefox and Opera. */\n",
       "        border: none;\n",
       "        /* Needs to be in here for Safari polyfill so background images work as expected. */\n",
       "        background-size: auto;\n",
       "    }\n",
       "    progress:not([value]), progress:not([value])::-webkit-progress-bar {\n",
       "        background: repeating-linear-gradient(45deg, #7e7e7e, #7e7e7e 10px, #5c5c5c 10px, #5c5c5c 20px);\n",
       "    }\n",
       "    .progress-bar-interrupted, .progress-bar-interrupted::-webkit-progress-bar {\n",
       "        background: #F44336;\n",
       "    }\n",
       "</style>\n"
      ],
      "text/plain": [
       "<IPython.core.display.HTML object>"
      ]
     },
     "metadata": {},
     "output_type": "display_data"
    },
    {
     "data": {
      "text/html": [
       "<table border=\"1\" class=\"dataframe\">\n",
       "  <thead>\n",
       "    <tr style=\"text-align: left;\">\n",
       "      <th>epoch</th>\n",
       "      <th>train_loss</th>\n",
       "      <th>valid_loss</th>\n",
       "      <th>accuracy</th>\n",
       "      <th>error_rate</th>\n",
       "      <th>time</th>\n",
       "    </tr>\n",
       "  </thead>\n",
       "  <tbody>\n",
       "    <tr>\n",
       "      <td>0</td>\n",
       "      <td>0.355612</td>\n",
       "      <td>0.290264</td>\n",
       "      <td>0.879680</td>\n",
       "      <td>0.120320</td>\n",
       "      <td>01:06</td>\n",
       "    </tr>\n",
       "    <tr>\n",
       "      <td>1</td>\n",
       "      <td>0.313959</td>\n",
       "      <td>0.258504</td>\n",
       "      <td>0.894240</td>\n",
       "      <td>0.105760</td>\n",
       "      <td>01:06</td>\n",
       "    </tr>\n",
       "    <tr>\n",
       "      <td>2</td>\n",
       "      <td>0.272798</td>\n",
       "      <td>0.238163</td>\n",
       "      <td>0.904120</td>\n",
       "      <td>0.095880</td>\n",
       "      <td>01:05</td>\n",
       "    </tr>\n",
       "    <tr>\n",
       "      <td>3</td>\n",
       "      <td>0.263374</td>\n",
       "      <td>0.219642</td>\n",
       "      <td>0.913000</td>\n",
       "      <td>0.087000</td>\n",
       "      <td>01:05</td>\n",
       "    </tr>\n",
       "    <tr>\n",
       "      <td>4</td>\n",
       "      <td>0.261460</td>\n",
       "      <td>0.219322</td>\n",
       "      <td>0.913280</td>\n",
       "      <td>0.086720</td>\n",
       "      <td>01:05</td>\n",
       "    </tr>\n",
       "    <tr>\n",
       "      <td>5</td>\n",
       "      <td>0.214934</td>\n",
       "      <td>0.209579</td>\n",
       "      <td>0.919120</td>\n",
       "      <td>0.080880</td>\n",
       "      <td>01:05</td>\n",
       "    </tr>\n",
       "    <tr>\n",
       "      <td>6</td>\n",
       "      <td>0.201676</td>\n",
       "      <td>0.208341</td>\n",
       "      <td>0.918440</td>\n",
       "      <td>0.081560</td>\n",
       "      <td>01:05</td>\n",
       "    </tr>\n",
       "    <tr>\n",
       "      <td>7</td>\n",
       "      <td>0.204911</td>\n",
       "      <td>0.206182</td>\n",
       "      <td>0.919280</td>\n",
       "      <td>0.080720</td>\n",
       "      <td>01:06</td>\n",
       "    </tr>\n",
       "    <tr>\n",
       "      <td>8</td>\n",
       "      <td>0.191858</td>\n",
       "      <td>0.204842</td>\n",
       "      <td>0.919040</td>\n",
       "      <td>0.080960</td>\n",
       "      <td>01:06</td>\n",
       "    </tr>\n",
       "    <tr>\n",
       "      <td>9</td>\n",
       "      <td>0.181945</td>\n",
       "      <td>0.204666</td>\n",
       "      <td>0.919200</td>\n",
       "      <td>0.080800</td>\n",
       "      <td>01:06</td>\n",
       "    </tr>\n",
       "  </tbody>\n",
       "</table>"
      ],
      "text/plain": [
       "<IPython.core.display.HTML object>"
      ]
     },
     "metadata": {},
     "output_type": "display_data"
    },
    {
     "name": "stdout",
     "output_type": "stream",
     "text": [
      "Better model found at epoch 0 with valid_loss value: 0.2902641296386719.\n",
      "Better model found at epoch 1 with valid_loss value: 0.25850367546081543.\n",
      "Better model found at epoch 2 with valid_loss value: 0.23816268146038055.\n",
      "Better model found at epoch 3 with valid_loss value: 0.21964222192764282.\n",
      "Better model found at epoch 4 with valid_loss value: 0.21932244300842285.\n",
      "Better model found at epoch 5 with valid_loss value: 0.20957881212234497.\n",
      "Better model found at epoch 6 with valid_loss value: 0.20834089815616608.\n",
      "Better model found at epoch 7 with valid_loss value: 0.20618247985839844.\n",
      "Better model found at epoch 8 with valid_loss value: 0.2048424929380417.\n",
      "Better model found at epoch 9 with valid_loss value: 0.20466594398021698.\n"
     ]
    },
    {
     "name": "stderr",
     "output_type": "stream",
     "text": [
      "/home/ylek/miniconda3/envs/fastai/lib/python3.12/site-packages/fastai/text/learner.py:92: FutureWarning: You are using `torch.load` with `weights_only=False` (the current default value), which uses the default pickle module implicitly. It is possible to construct malicious pickle data which will execute arbitrary code during unpickling (See https://github.com/pytorch/pytorch/blob/main/SECURITY.md#untrusted-models for more details). In a future release, the default value for `weights_only` will be flipped to `True`. This limits the functions that could be executed during unpickling. Arbitrary objects will no longer be allowed to be loaded via this mode unless they are explicitly allowlisted by the user via `torch.serialization.add_safe_globals`. We recommend you start setting `weights_only=True` for any use case where you don't have full control of the loaded file. Please open an issue on GitHub for any issues related to this experimental feature.\n",
      "  state = torch.load(file, map_location=device)\n"
     ]
    }
   ],
   "source": [
    "learn.fine_tune(10, 1e-3)"
   ]
  },
  {
   "cell_type": "code",
   "execution_count": 22,
   "id": "25cb128f",
   "metadata": {},
   "outputs": [
    {
     "data": {
      "text/html": [
       "\n",
       "<style>\n",
       "    /* Turns off some styling */\n",
       "    progress {\n",
       "        /* gets rid of default border in Firefox and Opera. */\n",
       "        border: none;\n",
       "        /* Needs to be in here for Safari polyfill so background images work as expected. */\n",
       "        background-size: auto;\n",
       "    }\n",
       "    progress:not([value]), progress:not([value])::-webkit-progress-bar {\n",
       "        background: repeating-linear-gradient(45deg, #7e7e7e, #7e7e7e 10px, #5c5c5c 10px, #5c5c5c 20px);\n",
       "    }\n",
       "    .progress-bar-interrupted, .progress-bar-interrupted::-webkit-progress-bar {\n",
       "        background: #F44336;\n",
       "    }\n",
       "</style>\n"
      ],
      "text/plain": [
       "<IPython.core.display.HTML object>"
      ]
     },
     "metadata": {},
     "output_type": "display_data"
    },
    {
     "data": {
      "text/html": [],
      "text/plain": [
       "<IPython.core.display.HTML object>"
      ]
     },
     "metadata": {},
     "output_type": "display_data"
    },
    {
     "data": {
      "text/plain": [
       "('neg', tensor(0), tensor([0.9724, 0.0276]))"
      ]
     },
     "execution_count": 22,
     "metadata": {},
     "output_type": "execute_result"
    }
   ],
   "source": [
    "learn.predict('This movie was horrible!')\n"
   ]
  },
  {
   "cell_type": "code",
   "execution_count": 23,
   "id": "b339e0f3",
   "metadata": {},
   "outputs": [
    {
     "data": {
      "text/html": [
       "\n",
       "<style>\n",
       "    /* Turns off some styling */\n",
       "    progress {\n",
       "        /* gets rid of default border in Firefox and Opera. */\n",
       "        border: none;\n",
       "        /* Needs to be in here for Safari polyfill so background images work as expected. */\n",
       "        background-size: auto;\n",
       "    }\n",
       "    progress:not([value]), progress:not([value])::-webkit-progress-bar {\n",
       "        background: repeating-linear-gradient(45deg, #7e7e7e, #7e7e7e 10px, #5c5c5c 10px, #5c5c5c 20px);\n",
       "    }\n",
       "    .progress-bar-interrupted, .progress-bar-interrupted::-webkit-progress-bar {\n",
       "        background: #F44336;\n",
       "    }\n",
       "</style>\n"
      ],
      "text/plain": [
       "<IPython.core.display.HTML object>"
      ]
     },
     "metadata": {},
     "output_type": "display_data"
    },
    {
     "data": {
      "text/html": [],
      "text/plain": [
       "<IPython.core.display.HTML object>"
      ]
     },
     "metadata": {},
     "output_type": "display_data"
    },
    {
     "data": {
      "text/plain": [
       "('pos', tensor(1), tensor([0.0107, 0.9893]))"
      ]
     },
     "execution_count": 23,
     "metadata": {},
     "output_type": "execute_result"
    }
   ],
   "source": [
    "learn.predict('This movie was great!')"
   ]
  },
  {
   "cell_type": "code",
   "execution_count": 24,
   "id": "8d4ed378",
   "metadata": {},
   "outputs": [
    {
     "data": {
      "text/plain": [
       "Path('/home/ylek/.fastai/data/imdb/models/clf_fine_tuned.pth')"
      ]
     },
     "execution_count": 24,
     "metadata": {},
     "output_type": "execute_result"
    }
   ],
   "source": [
    "learn.save('clf_fine_tuned')\n"
   ]
  },
  {
   "cell_type": "markdown",
   "id": "a17e665e",
   "metadata": {},
   "source": [
    "# Model Evaluation\n",
    "\n",
    "Finally, do a bit of model evaluation. Take a look at the confusion matrix for the validation dataset. For this, you'll use fastai's ClassificationInterpretation object."
   ]
  },
  {
   "cell_type": "code",
   "execution_count": 25,
   "id": "0ca02c68",
   "metadata": {},
   "outputs": [
    {
     "data": {
      "text/html": [
       "\n",
       "<style>\n",
       "    /* Turns off some styling */\n",
       "    progress {\n",
       "        /* gets rid of default border in Firefox and Opera. */\n",
       "        border: none;\n",
       "        /* Needs to be in here for Safari polyfill so background images work as expected. */\n",
       "        background-size: auto;\n",
       "    }\n",
       "    progress:not([value]), progress:not([value])::-webkit-progress-bar {\n",
       "        background: repeating-linear-gradient(45deg, #7e7e7e, #7e7e7e 10px, #5c5c5c 10px, #5c5c5c 20px);\n",
       "    }\n",
       "    .progress-bar-interrupted, .progress-bar-interrupted::-webkit-progress-bar {\n",
       "        background: #F44336;\n",
       "    }\n",
       "</style>\n"
      ],
      "text/plain": [
       "<IPython.core.display.HTML object>"
      ]
     },
     "metadata": {},
     "output_type": "display_data"
    },
    {
     "data": {
      "text/html": [],
      "text/plain": [
       "<IPython.core.display.HTML object>"
      ]
     },
     "metadata": {},
     "output_type": "display_data"
    }
   ],
   "source": [
    "interp = ClassificationInterpretation.from_learner(learn)"
   ]
  },
  {
   "cell_type": "code",
   "execution_count": 26,
   "id": "8851be20",
   "metadata": {},
   "outputs": [
    {
     "data": {
      "text/html": [
       "\n",
       "<style>\n",
       "    /* Turns off some styling */\n",
       "    progress {\n",
       "        /* gets rid of default border in Firefox and Opera. */\n",
       "        border: none;\n",
       "        /* Needs to be in here for Safari polyfill so background images work as expected. */\n",
       "        background-size: auto;\n",
       "    }\n",
       "    progress:not([value]), progress:not([value])::-webkit-progress-bar {\n",
       "        background: repeating-linear-gradient(45deg, #7e7e7e, #7e7e7e 10px, #5c5c5c 10px, #5c5c5c 20px);\n",
       "    }\n",
       "    .progress-bar-interrupted, .progress-bar-interrupted::-webkit-progress-bar {\n",
       "        background: #F44336;\n",
       "    }\n",
       "</style>\n"
      ],
      "text/plain": [
       "<IPython.core.display.HTML object>"
      ]
     },
     "metadata": {},
     "output_type": "display_data"
    },
    {
     "data": {
      "text/html": [],
      "text/plain": [
       "<IPython.core.display.HTML object>"
      ]
     },
     "metadata": {},
     "output_type": "display_data"
    },
    {
     "data": {
      "image/png": "[encoded data removed]",
      "text/plain": [
       "<Figure size 640x480 with 1 Axes>"
      ]
     },
     "metadata": {},
     "output_type": "display_data"
    }
   ],
   "source": [
    "interp.plot_confusion_matrix()"
   ]
  },
  {
   "cell_type": "markdown",
   "id": "14cd44d3",
   "metadata": {},
   "source": [
    "# Top Losses\n",
    "\n",
    "Another useful way to analyze your model qualitatively is to examine the top losses. This is where the inference differs from the label most strongly and can be useful in identifying samples that might be mislabeled. Take a look at them below. Are any of these labels confusing or possibly wrong?"
   ]
  },
  {
   "cell_type": "code",
   "execution_count": 27,
   "id": "deba3e43",
   "metadata": {},
   "outputs": [
    {
     "data": {
      "text/html": [
       "\n",
       "<style>\n",
       "    /* Turns off some styling */\n",
       "    progress {\n",
       "        /* gets rid of default border in Firefox and Opera. */\n",
       "        border: none;\n",
       "        /* Needs to be in here for Safari polyfill so background images work as expected. */\n",
       "        background-size: auto;\n",
       "    }\n",
       "    progress:not([value]), progress:not([value])::-webkit-progress-bar {\n",
       "        background: repeating-linear-gradient(45deg, #7e7e7e, #7e7e7e 10px, #5c5c5c 10px, #5c5c5c 20px);\n",
       "    }\n",
       "    .progress-bar-interrupted, .progress-bar-interrupted::-webkit-progress-bar {\n",
       "        background: #F44336;\n",
       "    }\n",
       "</style>\n"
      ],
      "text/plain": [
       "<IPython.core.display.HTML object>"
      ]
     },
     "metadata": {},
     "output_type": "display_data"
    },
    {
     "data": {
      "text/html": [],
      "text/plain": [
       "<IPython.core.display.HTML object>"
      ]
     },
     "metadata": {},
     "output_type": "display_data"
    },
    {
     "data": {
      "text/html": [
       "<table border=\"1\" class=\"dataframe\">\n",
       "  <thead>\n",
       "    <tr style=\"text-align: right;\">\n",
       "      <th></th>\n",
       "      <th>input</th>\n",
       "      <th>target</th>\n",
       "      <th>predicted</th>\n",
       "      <th>probability</th>\n",
       "      <th>loss</th>\n",
       "    </tr>\n",
       "  </thead>\n",
       "  <tbody>\n",
       "    <tr>\n",
       "      <th>0</th>\n",
       "      <td>xxbos \" comanche xxmaj moon \" had everything going for it . xxmaj for starters , xxmaj simon xxmaj wincer 's back , a man who 's name is synonymous with high - quality xxup tv westerns . xxmaj unfortunately , the problems with \" moon \" are something even the most talented director could n't solve : a poor script based on a lackluster novel . \\n\\n xxmaj forget historical accuracies -- as any reader of the novels can tell you , the biggest travesty in \" moon \" is that it 's not even consistent with information from the original \" lonesome xxmaj dove \" masterpiece . xxmaj so many wonderful , rich moments in the miniseries and , to an even greater degree , the book , are completely missing in \" moon . \" xxmaj considering the fact that most viewers of \" moon \" are</td>\n",
       "      <td>pos</td>\n",
       "      <td>neg</td>\n",
       "      <td>0.9996716976165771</td>\n",
       "      <td>9.818175315856934</td>\n",
       "    </tr>\n",
       "    <tr>\n",
       "      <th>1</th>\n",
       "      <td>xxbos * * spoilers xxup ahead * * \\n\\n xxmaj it is really unfortunate that a movie so well produced turns out to be \\n\\n such a disappointment . i thought this was full of ( silly ) clichés and \\n\\n that it basically tried to hard . \\n\\n xxmaj to the ( american ) guys out there : how many of you spend your \\n\\n time jumping on your girlfriend 's bed and making monkey \\n\\n sounds ? xxmaj to the ( married ) girls : how many of you have suddenly \\n\\n gone from prudes to xxunk overnight -- but not with your \\n\\n husband ? xxmaj to the xxmaj french : would you really ask about someone \\n\\n being \" à la xxunk \" when you know they do n't speak xxmaj french ? xxmaj would n't \\n\\n you use a more common word like \" xxunk</td>\n",
       "      <td>pos</td>\n",
       "      <td>neg</td>\n",
       "      <td>0.9995974898338318</td>\n",
       "      <td>9.716819763183594</td>\n",
       "    </tr>\n",
       "    <tr>\n",
       "      <th>2</th>\n",
       "      <td>xxbos i went to see this 3 nights ago here in xxmaj cork , xxmaj ireland . xxmaj it was the world premiere of it , in the tiny cinema in the xxmaj xxunk xxmaj arts xxmaj centre as part of the xxmaj cork xxmaj film xxmaj festival . \\n\\n i found \" strange xxmaj fruit \" to be an excellent movie . xxmaj it is a bit rough around the edges , but for a low - budget movie that is to be expected ! xxmaj in general the acting ( particularly from the main lead xxmaj kent xxmaj xxunk ) is wonderful , the cinematography and direction excellent , and the script hugely entertaining and thought - provoking , with some nice set - ups and witty dialogue . \\n\\n xxmaj the ending was a bit sudden , with no conclusion given to characters and events once the</td>\n",
       "      <td>neg</td>\n",
       "      <td>pos</td>\n",
       "      <td>0.9999455213546753</td>\n",
       "      <td>9.061750411987305</td>\n",
       "    </tr>\n",
       "    <tr>\n",
       "      <th>3</th>\n",
       "      <td>xxbos xxmaj first off let me say , xxmaj if you have n't enjoyed a xxmaj van xxmaj damme movie since bloodsport , you probably will not like this movie . xxmaj most of these movies may not have the best plots or best actors but i enjoy these kinds of movies for what they are . xxmaj this movie is much better than any of the movies the other action guys ( segal and xxmaj dolph ) have thought about putting out the past few years . xxmaj van xxmaj damme is good in the movie , the movie is only worth watching to xxmaj van xxmaj damme fans . xxmaj it is not as good as xxmaj wake of xxmaj death ( which i highly recommend to anyone of likes xxmaj van xxmaj damme ) or xxmaj in hell but , in my opinion it 's worth watching</td>\n",
       "      <td>neg</td>\n",
       "      <td>pos</td>\n",
       "      <td>0.9995548129081726</td>\n",
       "      <td>8.890929222106934</td>\n",
       "    </tr>\n",
       "    <tr>\n",
       "      <th>4</th>\n",
       "      <td>xxbos xxmaj this movie was pure genius . xxmaj john xxmaj waters is brilliant . xxmaj it is hilarious and i am not sick of it even after seeing it about 20 times since i bought it a few months ago . xxmaj the acting is great , although xxmaj ricki xxmaj lake could have been better . xxmaj and xxmaj johnny xxmaj depp is magnificent . xxmaj he is such a beautiful man and a very talented actor . xxmaj and seeing most of xxmaj johnny 's movies , this is probably my favorite . i give it 9.5 / 10 . xxmaj rent it today !</td>\n",
       "      <td>neg</td>\n",
       "      <td>pos</td>\n",
       "      <td>0.9999396800994873</td>\n",
       "      <td>8.832526206970215</td>\n",
       "    </tr>\n",
       "    <tr>\n",
       "      <th>5</th>\n",
       "      <td>xxbos xxmaj this film has the language , the style and the attitude down … plus greats rides from xxmaj xxunk ( a world champ ) and the great xxmaj jerry xxmaj lopez . xxmaj john xxmaj philbin as xxmaj turtle has the surf pidgin down , and the surfing scenes are still the best ever . a true classic that can be seen many times . xxmaj nia xxmaj peeples is a babe , and xxmaj laird xxmaj hamilton shows the early stuff that has made him the world 's number one extreme surfer .</td>\n",
       "      <td>neg</td>\n",
       "      <td>pos</td>\n",
       "      <td>0.9998840093612671</td>\n",
       "      <td>8.560975074768066</td>\n",
       "    </tr>\n",
       "    <tr>\n",
       "      <th>6</th>\n",
       "      <td>xxbos i was pleasantly surprised with this one . xxmaj it 's actually quite interesting and engaging . xxmaj the cast is strong , even xxmaj dan xxmaj cortese . xxmaj brooke xxmaj shields has come into her own as an actress . xxmaj black and xxmaj white must have really set her free , 'cause i have never seen her in this much command playing a conventional character . xxmaj if marketed right , could be a medium - size hit .</td>\n",
       "      <td>neg</td>\n",
       "      <td>pos</td>\n",
       "      <td>0.9998086094856262</td>\n",
       "      <td>8.021980285644531</td>\n",
       "    </tr>\n",
       "    <tr>\n",
       "      <th>7</th>\n",
       "      <td>xxbos xxmaj this is definitely one of the best xxmaj kung fu movies in the history of xxmaj cinema . xxmaj the screenplay is really well done ( which is not often the case for this type of movies ) and you can see that xxmaj chuck ( in one of his first xxunk a great actor . xxmaj the final fight with the xxunk deputy in the bullring is a masterpiece !</td>\n",
       "      <td>neg</td>\n",
       "      <td>pos</td>\n",
       "      <td>0.9998623132705688</td>\n",
       "      <td>7.8178253173828125</td>\n",
       "    </tr>\n",
       "    <tr>\n",
       "      <th>8</th>\n",
       "      <td>xxbos xxmaj well , i must say , i initially found this short to be quite average , but having watched it nearly 5 times since ( its constantly shown on xxup ifc ) , xxmaj i 've developed an enjoyment of the simple plot elements and reality of the situations presented . xxmaj sofia xxmaj coppola contributes a solid addition to the category .</td>\n",
       "      <td>neg</td>\n",
       "      <td>pos</td>\n",
       "      <td>0.9998540878295898</td>\n",
       "      <td>7.76065731048584</td>\n",
       "    </tr>\n",
       "    <tr>\n",
       "      <th>9</th>\n",
       "      <td>xxbos i really liked this quirky movie . xxmaj the characters are not the bland beautiful people that show up in so many movies and on xxup tv . xxmaj it has a realistic edge , with a captivating story line . xxmaj the main title sequence alone makes this movie fun to watch .</td>\n",
       "      <td>neg</td>\n",
       "      <td>pos</td>\n",
       "      <td>0.999393105506897</td>\n",
       "      <td>7.717164516448975</td>\n",
       "    </tr>\n",
       "  </tbody>\n",
       "</table>"
      ],
      "text/plain": [
       "<IPython.core.display.HTML object>"
      ]
     },
     "metadata": {},
     "output_type": "display_data"
    }
   ],
   "source": [
    "interp.plot_top_losses(10)"
   ]
  },
  {
   "cell_type": "code",
   "execution_count": null,
   "id": "96b7392d",
   "metadata": {},
   "outputs": [],
   "source": []
  }
 ],
 "metadata": {
  "kernelspec": {
   "display_name": "fastai",
   "language": "python",
   "name": "python3"
  },
  "language_info": {
   "codemirror_mode": {
    "name": "ipython",
    "version": 3
   },
   "file_extension": ".py",
   "mimetype": "text/x-python",
   "name": "python",
   "nbconvert_exporter": "python",
   "pygments_lexer": "ipython3",
   "version": "3.12.11"
  }
 },
 "nbformat": 4,
 "nbformat_minor": 5
}
